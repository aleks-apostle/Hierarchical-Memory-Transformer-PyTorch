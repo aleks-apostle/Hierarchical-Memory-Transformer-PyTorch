{
 "cells": [
  {
   "cell_type": "markdown",
   "metadata": {},
   "source": [
    "# Exploring WikiText-103: Understanding Long-Context Data\n",
    "\n",
    "This notebook helps you understand:\n",
    "1. What is WikiText-103 and why it's ideal for HMT\n",
    "2. Dataset statistics and characteristics\n",
    "3. Why long-context processing matters\n",
    "4. How HMT will segment and process this data\n",
    "\n",
    "**Learning Goals:**\n",
    "- See real examples of long Wikipedia articles\n",
    "- Understand the limitations of standard transformers (1024-2048 token limit)\n",
    "- Visualize how HMT's hierarchical memory overcomes these limitations"
   ]
  },
  {
   "cell_type": "code",
   "execution_count": 2,
   "metadata": {},
   "outputs": [
    {
     "name": "stderr",
     "output_type": "stream",
     "text": [
      "Matplotlib is building the font cache; this may take a moment.\n"
     ]
    },
    {
     "name": "stdout",
     "output_type": "stream",
     "text": [
      "PyTorch version: 2.8.0\n",
      "MPS available: True\n"
     ]
    }
   ],
   "source": [
    "# Install required packages if needed\n",
    "import sys\n",
    "sys.path.append('..')\n",
    "\n",
    "from datasets import load_dataset\n",
    "from transformers import GPT2Tokenizer\n",
    "import numpy as np\n",
    "import matplotlib.pyplot as plt\n",
    "from collections import Counter\n",
    "import torch\n",
    "\n",
    "print(f\"PyTorch version: {torch.__version__}\")\n",
    "print(f\"MPS available: {torch.backends.mps.is_available()}\")"
   ]
  },
  {
   "cell_type": "markdown",
   "metadata": {},
   "source": [
    "## 1. Loading WikiText-103\n",
    "\n",
    "WikiText-103 is a collection of over 100 million tokens from Wikipedia articles.\n",
    "It's perfect for testing long-context models because:\n",
    "- Articles are naturally long (thousands of tokens)\n",
    "- Content requires understanding distant context\n",
    "- Already preprocessed and split into train/validation/test"
   ]
  },
  {
   "cell_type": "code",
   "execution_count": 3,
   "metadata": {},
   "outputs": [
    {
     "name": "stdout",
     "output_type": "stream",
     "text": [
      "Loading WikiText-103 dataset...\n",
      "\n",
      "Dataset splits:\n",
      "  test: 4358 examples\n",
      "  train: 1801350 examples\n",
      "  validation: 3760 examples\n"
     ]
    }
   ],
   "source": [
    "# Load WikiText-103\n",
    "print(\"Loading WikiText-103 dataset...\")\n",
    "dataset = load_dataset(\"wikitext\", \"wikitext-103-v1\")\n",
    "\n",
    "print(f\"\\nDataset splits:\")\n",
    "for split in dataset.keys():\n",
    "    print(f\"  {split}: {len(dataset[split])} examples\")"
   ]
  },
  {
   "cell_type": "code",
   "execution_count": 4,
   "metadata": {},
   "outputs": [
    {
     "name": "stdout",
     "output_type": "stream",
     "text": [
      "Sample article (first 500 characters):\n",
      "================================================================================\n",
      " 96 ammunition packing boxes \n",
      "\n",
      "...\n",
      "\n",
      "Total characters in this article: 30\n"
     ]
    }
   ],
   "source": [
    "# Look at a sample article\n",
    "sample = dataset['train'][100]\n",
    "text = sample['text']\n",
    "\n",
    "print(\"Sample article (first 500 characters):\")\n",
    "print(\"=\" * 80)\n",
    "print(text[:500])\n",
    "print(\"...\")\n",
    "print(f\"\\nTotal characters in this article: {len(text)}\")"
   ]
  },
  {
   "cell_type": "markdown",
   "metadata": {},
   "source": [
    "## 2. Tokenization Analysis\n",
    "\n",
    "We'll use GPT-2's tokenizer since we'll be using GPT-2 as our backbone model.\n",
    "Let's see how articles are tokenized and their length distribution."
   ]
  },
  {
   "cell_type": "code",
   "execution_count": 5,
   "metadata": {},
   "outputs": [
    {
     "name": "stdout",
     "output_type": "stream",
     "text": [
      "Vocabulary size: 50257\n",
      "EOS token: <|endoftext|> (id: 50256)\n"
     ]
    }
   ],
   "source": [
    "# Initialize GPT-2 tokenizer\n",
    "tokenizer = GPT2Tokenizer.from_pretrained('gpt2')\n",
    "tokenizer.pad_token = tokenizer.eos_token  # GPT-2 doesn't have a pad token by default\n",
    "\n",
    "print(f\"Vocabulary size: {len(tokenizer)}\")\n",
    "print(f\"EOS token: {tokenizer.eos_token} (id: {tokenizer.eos_token_id})\")"
   ]
  },
  {
   "cell_type": "code",
   "execution_count": 6,
   "metadata": {},
   "outputs": [
    {
     "name": "stdout",
     "output_type": "stream",
     "text": [
      "Number of tokens: 6\n",
      "\n",
      "First 20 tokens:\n",
      "  0: ' 96' (id: 9907)\n",
      "  1: ' ammunition' (id: 14271)\n",
      "  2: ' packing' (id: 24157)\n",
      "  3: ' boxes' (id: 10559)\n",
      "  4: ' ' (id: 220)\n",
      "  5: '\n",
      "' (id: 198)\n"
     ]
    }
   ],
   "source": [
    "# Tokenize the sample article\n",
    "tokens = tokenizer(text, return_tensors='pt')\n",
    "token_ids = tokens['input_ids'][0]\n",
    "\n",
    "print(f\"Number of tokens: {len(token_ids)}\")\n",
    "print(f\"\\nFirst 20 tokens:\")\n",
    "for i, token_id in enumerate(token_ids[:20]):\n",
    "    token = tokenizer.decode([token_id])\n",
    "    print(f\"  {i}: '{token}' (id: {token_id})\")"
   ]
  },
  {
   "cell_type": "markdown",
   "metadata": {},
   "source": [
    "## 3. Article Length Distribution\n",
    "\n",
    "**Key Question:** How long are articles in WikiText-103?\n",
    "\n",
    "This is crucial because:\n",
    "- GPT-2 has a max context length of **1024 tokens**\n",
    "- Standard transformers must **truncate** longer articles\n",
    "- HMT can process **arbitrarily long** contexts via its memory hierarchy"
   ]
  },
  {
   "cell_type": "code",
   "execution_count": 7,
   "metadata": {},
   "outputs": [
    {
     "name": "stdout",
     "output_type": "stream",
     "text": [
      "Analyzing article lengths (this may take a minute)...\n",
      "  Processed 200/1000 articles...\n",
      "  Processed 400/1000 articles...\n",
      "  Processed 600/1000 articles...\n",
      "  Processed 800/1000 articles...\n",
      "  Processed 1000/1000 articles...\n",
      "\n",
      "Analyzed 647 non-empty articles\n"
     ]
    }
   ],
   "source": [
    "# Analyze length distribution (sample first 1000 articles for speed)\n",
    "print(\"Analyzing article lengths (this may take a minute)...\")\n",
    "\n",
    "article_lengths = []\n",
    "num_samples = 1000\n",
    "\n",
    "for i, example in enumerate(dataset['train']):\n",
    "    if i >= num_samples:\n",
    "        break\n",
    "    \n",
    "    text = example['text'].strip()\n",
    "    if len(text) > 0:  # Skip empty articles\n",
    "        tokens = tokenizer(text, return_tensors='pt')['input_ids'][0]\n",
    "        article_lengths.append(len(tokens))\n",
    "    \n",
    "    if (i + 1) % 200 == 0:\n",
    "        print(f\"  Processed {i + 1}/{num_samples} articles...\")\n",
    "\n",
    "article_lengths = np.array(article_lengths)\n",
    "print(f\"\\nAnalyzed {len(article_lengths)} non-empty articles\")"
   ]
  },
  {
   "cell_type": "code",
   "execution_count": 8,
   "metadata": {},
   "outputs": [
    {
     "name": "stdout",
     "output_type": "stream",
     "text": [
      "\n",
      "📊 Article Length Statistics (in tokens):\n",
      "==================================================\n",
      "Mean:   93.7\n",
      "Median: 69.0\n",
      "Min:    3\n",
      "Max:    471\n",
      "\n",
      "Percentiles:\n",
      "  25th: 9.0 tokens\n",
      "  50th: 69.0 tokens\n",
      "  75th: 157.0 tokens\n",
      "  90th: 236.0 tokens\n",
      "  95th: 282.0 tokens\n",
      "  99th: 367.5 tokens\n",
      "\n",
      "⚠️  Critical Insights:\n",
      "  GPT-2 max context: 1024 tokens\n",
      "  Articles exceeding GPT-2 limit: 0 (0.0%)\n",
      "  These articles NEED long-context processing! 🚀\n"
     ]
    }
   ],
   "source": [
    "# Statistics\n",
    "print(\"\\n📊 Article Length Statistics (in tokens):\")\n",
    "print(\"=\" * 50)\n",
    "print(f\"Mean:   {article_lengths.mean():.1f}\")\n",
    "print(f\"Median: {np.median(article_lengths):.1f}\")\n",
    "print(f\"Min:    {article_lengths.min()}\")\n",
    "print(f\"Max:    {article_lengths.max()}\")\n",
    "print(f\"\\nPercentiles:\")\n",
    "for p in [25, 50, 75, 90, 95, 99]:\n",
    "    print(f\"  {p}th: {np.percentile(article_lengths, p):.1f} tokens\")\n",
    "\n",
    "# Critical insight\n",
    "print(\"\\n⚠️  Critical Insights:\")\n",
    "gpt2_limit = 1024\n",
    "over_limit = (article_lengths > gpt2_limit).sum()\n",
    "pct_over = (over_limit / len(article_lengths)) * 100\n",
    "print(f\"  GPT-2 max context: {gpt2_limit} tokens\")\n",
    "print(f\"  Articles exceeding GPT-2 limit: {over_limit} ({pct_over:.1f}%)\")\n",
    "print(f\"  These articles NEED long-context processing! 🚀\")"
   ]
  },
  {
   "cell_type": "code",
   "execution_count": 9,
   "metadata": {},
   "outputs": [
    {
     "data": {
      "image/png": "[encoded data removed]",
      "text/plain": [
       "<Figure size 1200x500 with 2 Axes>"
      ]
     },
     "metadata": {},
     "output_type": "display_data"
    }
   ],
   "source": [
    "# Visualize distribution\n",
    "plt.figure(figsize=(12, 5))\n",
    "\n",
    "# Histogram\n",
    "plt.subplot(1, 2, 1)\n",
    "plt.hist(article_lengths, bins=50, edgecolor='black', alpha=0.7)\n",
    "plt.axvline(gpt2_limit, color='red', linestyle='--', linewidth=2, label='GPT-2 limit (1024)')\n",
    "plt.xlabel('Article Length (tokens)')\n",
    "plt.ylabel('Frequency')\n",
    "plt.title('Distribution of Article Lengths')\n",
    "plt.legend()\n",
    "plt.grid(alpha=0.3)\n",
    "\n",
    "# CDF\n",
    "plt.subplot(1, 2, 2)\n",
    "sorted_lengths = np.sort(article_lengths)\n",
    "cdf = np.arange(1, len(sorted_lengths) + 1) / len(sorted_lengths)\n",
    "plt.plot(sorted_lengths, cdf, linewidth=2)\n",
    "plt.axvline(gpt2_limit, color='red', linestyle='--', linewidth=2, label='GPT-2 limit')\n",
    "plt.xlabel('Article Length (tokens)')\n",
    "plt.ylabel('Cumulative Probability')\n",
    "plt.title('Cumulative Distribution of Article Lengths')\n",
    "plt.legend()\n",
    "plt.grid(alpha=0.3)\n",
    "\n",
    "plt.tight_layout()\n",
    "plt.show()"
   ]
  },
  {
   "cell_type": "markdown",
   "metadata": {},
   "source": [
    "## 4. Why HMT Matters: A Concrete Example\n",
    "\n",
    "Let's look at a long article and see what standard transformers miss."
   ]
  },
  {
   "cell_type": "code",
   "execution_count": null,
   "metadata": {},
   "outputs": [],
   "source": [
    "# Find a long article (>2000 tokens)\n",
    "for i, example in enumerate(dataset['train']):\n",
    "    text = example['text'].strip()\n",
    "    if len(text) > 0:\n",
    "        tokens = tokenizer(text, return_tensors='pt')['input_ids'][0]\n",
    "        if len(tokens) > 2000:\n",
    "            long_article_idx = i\n",
    "            long_article_text = text\n",
    "            long_article_tokens = tokens\n",
    "            break\n",
    "\n",
    "print(f\"Found article at index {long_article_idx}\")\n",
    "print(f\"Length: {len(long_article_tokens)} tokens\")\n",
    "print(f\"\\nFirst 300 characters:\")\n",
    "print(\"=\" * 80)\n",
    "print(long_article_text[:300])\n",
    "print(\"...\")"
   ]
  },
  {
   "cell_type": "code",
   "execution_count": null,
   "metadata": {},
   "outputs": [],
   "source": [
    "# Compare: Standard Transformer vs HMT\n",
    "print(\"\\n🔍 Processing Comparison:\\n\")\n",
    "print(\"=\" * 80)\n",
    "\n",
    "# Standard GPT-2\n",
    "print(\"\\n❌ Standard GPT-2 (1024 token limit):\")\n",
    "truncated_tokens = long_article_tokens[:1024]\n",
    "tokens_lost = len(long_article_tokens) - len(truncated_tokens)\n",
    "pct_lost = (tokens_lost / len(long_article_tokens)) * 100\n",
    "print(f\"  Processes: {len(truncated_tokens)} tokens\")\n",
    "print(f\"  LOSES:     {tokens_lost} tokens ({pct_lost:.1f}% of article!)\")\n",
    "print(f\"  The model never sees the end of the article!\")\n",
    "\n",
    "# HMT approach\n",
    "print(\"\\n✅ HMT with Hierarchical Memory:\")\n",
    "segment_length = 512\n",
    "num_segments = (len(long_article_tokens) + segment_length - 1) // segment_length\n",
    "print(f\"  Processes: ALL {len(long_article_tokens)} tokens\")\n",
    "print(f\"  How: Segments article into {num_segments} chunks of {segment_length} tokens\")\n",
    "print(f\"  Memory: Maintains context across segments via:\")\n",
    "print(f\"    - Sensory memory: Last 32 tokens from previous segment\")\n",
    "print(f\"    - Long-term memory: Compressed embeddings from all past segments\")\n",
    "print(f\"  Result: FULL article comprehension! 🎯\")"
   ]
  },
  {
   "cell_type": "markdown",
   "metadata": {},
   "source": [
    "## 5. Visualizing HMT Segmentation\n",
    "\n",
    "Let's see how HMT would process this long article using segments."
   ]
  },
  {
   "cell_type": "code",
   "execution_count": null,
   "metadata": {},
   "outputs": [],
   "source": [
    "# Simulate HMT segmentation\n",
    "def visualize_hmt_segments(tokens, segment_length=512, sensory_size=32):\n",
    "    \"\"\"\n",
    "    Visualize how HMT segments a long sequence.\n",
    "    \"\"\"\n",
    "    segments = []\n",
    "    num_tokens = len(tokens)\n",
    "    \n",
    "    for i in range(0, num_tokens, segment_length):\n",
    "        segment_start = i\n",
    "        segment_end = min(i + segment_length, num_tokens)\n",
    "        segment_tokens = tokens[segment_start:segment_end]\n",
    "        \n",
    "        # Sensory memory from previous segment\n",
    "        if i > 0:\n",
    "            sensory_start = max(0, i - sensory_size)\n",
    "            sensory_tokens = tokens[sensory_start:i]\n",
    "        else:\n",
    "            sensory_tokens = []\n",
    "        \n",
    "        segments.append({\n",
    "            'segment_id': len(segments),\n",
    "            'range': (segment_start, segment_end),\n",
    "            'length': len(segment_tokens),\n",
    "            'sensory_length': len(sensory_tokens),\n",
    "            'total_context': len(sensory_tokens) + len(segment_tokens)\n",
    "        })\n",
    "    \n",
    "    return segments\n",
    "\n",
    "segments = visualize_hmt_segments(long_article_tokens)\n",
    "\n",
    "print(f\"\\n📚 HMT Segmentation Plan:\")\n",
    "print(\"=\" * 80)\n",
    "print(f\"Total tokens: {len(long_article_tokens)}\")\n",
    "print(f\"Number of segments: {len(segments)}\\n\")\n",
    "\n",
    "for seg in segments:\n",
    "    print(f\"Segment {seg['segment_id']}:\")\n",
    "    print(f\"  Token range: {seg['range'][0]:4d} - {seg['range'][1]:4d}\")\n",
    "    print(f\"  Segment size: {seg['length']} tokens\")\n",
    "    print(f\"  Sensory memory: {seg['sensory_length']} tokens\")\n",
    "    print(f\"  Total context: {seg['total_context']} tokens\")\n",
    "    if seg['segment_id'] > 0:\n",
    "        print(f\"  + Retrieved memory from {seg['segment_id']} previous segments\")\n",
    "    print()"
   ]
  },
  {
   "cell_type": "code",
   "execution_count": null,
   "metadata": {},
   "outputs": [],
   "source": [
    "# Visual representation\n",
    "plt.figure(figsize=(14, 6))\n",
    "\n",
    "# Create visualization\n",
    "segment_positions = [seg['range'][0] for seg in segments]\n",
    "segment_lengths = [seg['length'] for seg in segments]\n",
    "sensory_lengths = [seg['sensory_length'] for seg in segments]\n",
    "\n",
    "# Stacked bar chart\n",
    "plt.subplot(1, 2, 1)\n",
    "x = range(len(segments))\n",
    "plt.bar(x, segment_lengths, label='Current segment', alpha=0.8)\n",
    "plt.bar(x, sensory_lengths, label='Sensory memory', alpha=0.8)\n",
    "plt.xlabel('Segment ID')\n",
    "plt.ylabel('Number of tokens')\n",
    "plt.title('HMT Segment Processing')\n",
    "plt.legend()\n",
    "plt.grid(alpha=0.3)\n",
    "\n",
    "# Timeline view\n",
    "plt.subplot(1, 2, 2)\n",
    "for i, seg in enumerate(segments):\n",
    "    start, end = seg['range']\n",
    "    plt.barh(i, end - start, left=start, height=0.8, \n",
    "             alpha=0.7, edgecolor='black', linewidth=1)\n",
    "    \n",
    "    # Add sensory memory overlay\n",
    "    if seg['sensory_length'] > 0:\n",
    "        sensory_start = start - seg['sensory_length']\n",
    "        plt.barh(i, seg['sensory_length'], left=sensory_start, \n",
    "                height=0.8, alpha=0.3, color='orange')\n",
    "\n",
    "plt.xlabel('Token Position')\n",
    "plt.ylabel('Segment ID')\n",
    "plt.title('Timeline of HMT Processing')\n",
    "plt.grid(alpha=0.3, axis='x')\n",
    "plt.tight_layout()\n",
    "plt.show()\n",
    "\n",
    "print(\"\\n📖 In the timeline:\")\n",
    "print(\"  - Blue bars: Current segment being processed\")\n",
    "print(\"  - Orange overlay: Sensory memory from previous segment\")\n",
    "print(\"  - Memory retrieval (not shown): Cross-attention to all past segments\")"
   ]
  },
  {
   "cell_type": "markdown",
   "metadata": {},
   "source": [
    "## 6. Key Takeaways\n",
    "\n",
    "**What you learned:**\n",
    "\n",
    "1. **WikiText-103 characteristics:**\n",
    "   - 100M+ tokens from Wikipedia articles\n",
    "   - Many articles exceed standard transformer limits (1024 tokens)\n",
    "   - Natural language that requires long-range understanding\n",
    "\n",
    "2. **Why long-context matters:**\n",
    "   - Standard transformers truncate long articles, losing information\n",
    "   - Important context (conclusions, references, connections) often appears late in articles\n",
    "\n",
    "3. **How HMT solves this:**\n",
    "   - Segments long articles into manageable chunks (512 tokens)\n",
    "   - Preserves continuity via sensory memory (32 tokens)\n",
    "   - Retrieves relevant past context via long-term memory (300 embeddings)\n",
    "   - Can process arbitrarily long contexts!\n",
    "\n",
    "**Next steps:**\n",
    "- Implement the data loading pipeline\n",
    "- Create the HMT memory components\n",
    "- Test on real WikiText-103 articles"
   ]
  },
  {
   "cell_type": "markdown",
   "metadata": {},
   "source": [
    "## 7. Interactive Exercise (Optional)\n",
    "\n",
    "Try these experiments to deepen your understanding:"
   ]
  },
  {
   "cell_type": "code",
   "execution_count": null,
   "metadata": {},
   "outputs": [],
   "source": [
    "# Exercise 1: What happens if we change segment_length?\n",
    "# Try segment_length = 256, 512, 1024 and see how it affects number of segments\n",
    "\n",
    "print(\"Exercise 1: Effect of segment_length\\n\")\n",
    "for seg_len in [256, 512, 1024]:\n",
    "    num_segs = (len(long_article_tokens) + seg_len - 1) // seg_len\n",
    "    print(f\"segment_length={seg_len}: {num_segs} segments\")\n",
    "\n",
    "# Question: What's the trade-off between smaller and larger segments?"
   ]
  },
  {
   "cell_type": "code",
   "execution_count": null,
   "metadata": {},
   "outputs": [],
   "source": [
    "# Exercise 2: Find the longest article in the dataset\n",
    "# This will help you understand the extreme cases HMT needs to handle\n",
    "\n",
    "max_length = 0\n",
    "longest_article = None\n",
    "longest_idx = -1\n",
    "\n",
    "print(\"Searching for longest article (checking 5000 articles)...\\n\")\n",
    "for i, example in enumerate(dataset['train']):\n",
    "    if i >= 5000:\n",
    "        break\n",
    "    \n",
    "    text = example['text'].strip()\n",
    "    if len(text) > 0:\n",
    "        tokens = tokenizer(text, return_tensors='pt')['input_ids'][0]\n",
    "        if len(tokens) > max_length:\n",
    "            max_length = len(tokens)\n",
    "            longest_article = text\n",
    "            longest_idx = i\n",
    "\n",
    "print(f\"Longest article found at index: {longest_idx}\")\n",
    "print(f\"Length: {max_length} tokens\")\n",
    "print(f\"\\nThis would require {(max_length + 511) // 512} segments with HMT!\")\n",
    "print(f\"\\nPreview:\")\n",
    "print(longest_article[:200])"
   ]
  }
 ],
 "metadata": {
  "kernelspec": {
   "display_name": "Python 3 (ipykernel)",
   "language": "python",
   "name": "python3"
  },
  "language_info": {
   "codemirror_mode": {
    "name": "ipython",
    "version": 3
   },
   "file_extension": ".py",
   "mimetype": "text/x-python",
   "name": "python",
   "nbconvert_exporter": "python",
   "pygments_lexer": "ipython3",
   "version": "3.12.11"
  }
 },
 "nbformat": 4,
 "nbformat_minor": 4
}
